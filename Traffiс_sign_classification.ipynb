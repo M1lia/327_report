{
  "nbformat": 4,
  "nbformat_minor": 0,
  "metadata": {
    "colab": {
      "name": "Traffis_sign_classification.ipynb",
      "provenance": [],
      "collapsed_sections": []
    },
    "kernelspec": {
      "name": "python3",
      "display_name": "Python 3"
    },
    "language_info": {
      "name": "python"
    },
    "accelerator": "GPU",
    "gpuClass": "standard"
  },
  "cells": [
    {
      "cell_type": "code",
      "execution_count": 1,
      "metadata": {
        "colab": {
          "base_uri": "https://localhost:8080/"
        },
        "id": "pOXtvC3USa7X",
        "outputId": "6484b71d-99e7-4d3f-f99f-2cdec1f1709a"
      },
      "outputs": [
        {
          "output_type": "stream",
          "name": "stdout",
          "text": [
            "Looking in indexes: https://pypi.org/simple, https://us-python.pkg.dev/colab-wheels/public/simple/\n",
            "Requirement already satisfied: albumentations in /usr/local/lib/python3.7/dist-packages (0.1.12)\n",
            "Collecting albumentations\n",
            "  Downloading albumentations-1.2.0-py3-none-any.whl (113 kB)\n",
            "\u001b[K     |████████████████████████████████| 113 kB 4.2 MB/s \n",
            "\u001b[?25hRequirement already satisfied: numpy>=1.11.1 in /usr/local/lib/python3.7/dist-packages (from albumentations) (1.21.6)\n",
            "Collecting opencv-python-headless>=4.1.1\n",
            "  Downloading opencv_python_headless-4.6.0.66-cp36-abi3-manylinux_2_17_x86_64.manylinux2014_x86_64.whl (48.3 MB)\n",
            "\u001b[K     |████████████████████████████████| 48.3 MB 2.3 MB/s \n",
            "\u001b[?25hCollecting qudida>=0.0.4\n",
            "  Downloading qudida-0.0.4-py3-none-any.whl (3.5 kB)\n",
            "Requirement already satisfied: PyYAML in /usr/local/lib/python3.7/dist-packages (from albumentations) (3.13)\n",
            "Requirement already satisfied: scipy in /usr/local/lib/python3.7/dist-packages (from albumentations) (1.4.1)\n",
            "Requirement already satisfied: scikit-image<0.19,>=0.16.1 in /usr/local/lib/python3.7/dist-packages (from albumentations) (0.18.3)\n",
            "Requirement already satisfied: typing-extensions in /usr/local/lib/python3.7/dist-packages (from qudida>=0.0.4->albumentations) (4.1.1)\n",
            "Requirement already satisfied: scikit-learn>=0.19.1 in /usr/local/lib/python3.7/dist-packages (from qudida>=0.0.4->albumentations) (1.0.2)\n",
            "Requirement already satisfied: networkx>=2.0 in /usr/local/lib/python3.7/dist-packages (from scikit-image<0.19,>=0.16.1->albumentations) (2.6.3)\n",
            "Requirement already satisfied: PyWavelets>=1.1.1 in /usr/local/lib/python3.7/dist-packages (from scikit-image<0.19,>=0.16.1->albumentations) (1.3.0)\n",
            "Requirement already satisfied: imageio>=2.3.0 in /usr/local/lib/python3.7/dist-packages (from scikit-image<0.19,>=0.16.1->albumentations) (2.4.1)\n",
            "Requirement already satisfied: matplotlib!=3.0.0,>=2.0.0 in /usr/local/lib/python3.7/dist-packages (from scikit-image<0.19,>=0.16.1->albumentations) (3.2.2)\n",
            "Requirement already satisfied: tifffile>=2019.7.26 in /usr/local/lib/python3.7/dist-packages (from scikit-image<0.19,>=0.16.1->albumentations) (2021.11.2)\n",
            "Requirement already satisfied: pillow!=7.1.0,!=7.1.1,>=4.3.0 in /usr/local/lib/python3.7/dist-packages (from scikit-image<0.19,>=0.16.1->albumentations) (7.1.2)\n",
            "Requirement already satisfied: pyparsing!=2.0.4,!=2.1.2,!=2.1.6,>=2.0.1 in /usr/local/lib/python3.7/dist-packages (from matplotlib!=3.0.0,>=2.0.0->scikit-image<0.19,>=0.16.1->albumentations) (3.0.9)\n",
            "Requirement already satisfied: kiwisolver>=1.0.1 in /usr/local/lib/python3.7/dist-packages (from matplotlib!=3.0.0,>=2.0.0->scikit-image<0.19,>=0.16.1->albumentations) (1.4.3)\n",
            "Requirement already satisfied: python-dateutil>=2.1 in /usr/local/lib/python3.7/dist-packages (from matplotlib!=3.0.0,>=2.0.0->scikit-image<0.19,>=0.16.1->albumentations) (2.8.2)\n",
            "Requirement already satisfied: cycler>=0.10 in /usr/local/lib/python3.7/dist-packages (from matplotlib!=3.0.0,>=2.0.0->scikit-image<0.19,>=0.16.1->albumentations) (0.11.0)\n",
            "Requirement already satisfied: six>=1.5 in /usr/local/lib/python3.7/dist-packages (from python-dateutil>=2.1->matplotlib!=3.0.0,>=2.0.0->scikit-image<0.19,>=0.16.1->albumentations) (1.15.0)\n",
            "Requirement already satisfied: joblib>=0.11 in /usr/local/lib/python3.7/dist-packages (from scikit-learn>=0.19.1->qudida>=0.0.4->albumentations) (1.1.0)\n",
            "Requirement already satisfied: threadpoolctl>=2.0.0 in /usr/local/lib/python3.7/dist-packages (from scikit-learn>=0.19.1->qudida>=0.0.4->albumentations) (3.1.0)\n",
            "Installing collected packages: opencv-python-headless, qudida, albumentations\n",
            "  Attempting uninstall: albumentations\n",
            "    Found existing installation: albumentations 0.1.12\n",
            "    Uninstalling albumentations-0.1.12:\n",
            "      Successfully uninstalled albumentations-0.1.12\n",
            "Successfully installed albumentations-1.2.0 opencv-python-headless-4.6.0.66 qudida-0.0.4\n"
          ]
        }
      ],
      "source": [
        "pip install -U albumentations"
      ]
    },
    {
      "cell_type": "code",
      "source": [
        "!pip uninstall opencv-python-headless "
      ],
      "metadata": {
        "colab": {
          "base_uri": "https://localhost:8080/"
        },
        "id": "no2KWtNBXkHN",
        "outputId": "c660122c-5760-4aa2-d487-cf5c72bd22b4"
      },
      "execution_count": 2,
      "outputs": [
        {
          "output_type": "stream",
          "name": "stdout",
          "text": [
            "Found existing installation: opencv-python-headless 4.6.0.66\n",
            "Uninstalling opencv-python-headless-4.6.0.66:\n",
            "  Would remove:\n",
            "    /usr/local/lib/python3.7/dist-packages/cv2/*\n",
            "    /usr/local/lib/python3.7/dist-packages/opencv_python_headless-4.6.0.66.dist-info/*\n",
            "    /usr/local/lib/python3.7/dist-packages/opencv_python_headless.libs/libavcodec-5896f664.so.58.134.100\n",
            "    /usr/local/lib/python3.7/dist-packages/opencv_python_headless.libs/libavformat-8ef5c7db.so.58.76.100\n",
            "    /usr/local/lib/python3.7/dist-packages/opencv_python_headless.libs/libavutil-9c768859.so.56.70.100\n",
            "    /usr/local/lib/python3.7/dist-packages/opencv_python_headless.libs/libbz2-a273e504.so.1.0.6\n",
            "    /usr/local/lib/python3.7/dist-packages/opencv_python_headless.libs/libcrypto-d21001fc.so.1.1\n",
            "    /usr/local/lib/python3.7/dist-packages/opencv_python_headless.libs/libgfortran-91cc3cb1.so.3.0.0\n",
            "    /usr/local/lib/python3.7/dist-packages/opencv_python_headless.libs/libopenblas-r0-f650aae0.3.3.so\n",
            "    /usr/local/lib/python3.7/dist-packages/opencv_python_headless.libs/libpng16-57e5e0a0.so.16.37.0\n",
            "    /usr/local/lib/python3.7/dist-packages/opencv_python_headless.libs/libquadmath-96973f99.so.0.0.0\n",
            "    /usr/local/lib/python3.7/dist-packages/opencv_python_headless.libs/libssl-c8c53640.so.1.1\n",
            "    /usr/local/lib/python3.7/dist-packages/opencv_python_headless.libs/libswresample-99364a1c.so.3.9.100\n",
            "    /usr/local/lib/python3.7/dist-packages/opencv_python_headless.libs/libswscale-e6451464.so.5.9.100\n",
            "    /usr/local/lib/python3.7/dist-packages/opencv_python_headless.libs/libvpx-f22f1483.so.7.0.0\n",
            "  Would not remove (might be manually added):\n",
            "    /usr/local/lib/python3.7/dist-packages/cv2/.libs/libQtCore-bbdab771.so.4.8.7\n",
            "    /usr/local/lib/python3.7/dist-packages/cv2/.libs/libQtGui-903938cd.so.4.8.7\n",
            "    /usr/local/lib/python3.7/dist-packages/cv2/.libs/libQtTest-1183da5d.so.4.8.7\n",
            "    /usr/local/lib/python3.7/dist-packages/cv2/.libs/libavcodec-3cdd3bd4.so.58.62.100\n",
            "    /usr/local/lib/python3.7/dist-packages/cv2/.libs/libavformat-69a63b50.so.58.35.100\n",
            "    /usr/local/lib/python3.7/dist-packages/cv2/.libs/libavutil-8e8979a8.so.56.36.100\n",
            "    /usr/local/lib/python3.7/dist-packages/cv2/.libs/libbz2-7225278b.so.1.0.3\n",
            "    /usr/local/lib/python3.7/dist-packages/cv2/.libs/libcrypto-a25ff511.so.1.1\n",
            "    /usr/local/lib/python3.7/dist-packages/cv2/.libs/libssl-fdf0b66c.so.1.1\n",
            "    /usr/local/lib/python3.7/dist-packages/cv2/.libs/libswresample-c6b3bbb9.so.3.6.100\n",
            "    /usr/local/lib/python3.7/dist-packages/cv2/.libs/libswscale-2d19f7d1.so.5.6.100\n",
            "    /usr/local/lib/python3.7/dist-packages/cv2/.libs/libvpx-c887ea55.so.6.1.0\n",
            "    /usr/local/lib/python3.7/dist-packages/cv2/.libs/libz-a147dcb0.so.1.2.3\n",
            "    /usr/local/lib/python3.7/dist-packages/cv2/cv2.cpython-37m-x86_64-linux-gnu.so\n",
            "Proceed (y/n)? y\n",
            "  Successfully uninstalled opencv-python-headless-4.6.0.66\n"
          ]
        }
      ]
    },
    {
      "cell_type": "code",
      "source": [
        "!pip install \"opencv-python-headless<4.3\" "
      ],
      "metadata": {
        "colab": {
          "base_uri": "https://localhost:8080/"
        },
        "id": "678kRWLlYS1C",
        "outputId": "0943fc89-2ff7-4f43-b3c5-a92fda5a5ce9"
      },
      "execution_count": 3,
      "outputs": [
        {
          "output_type": "stream",
          "name": "stdout",
          "text": [
            "Looking in indexes: https://pypi.org/simple, https://us-python.pkg.dev/colab-wheels/public/simple/\n",
            "Collecting opencv-python-headless<4.3\n",
            "  Downloading opencv_python_headless-4.2.0.34-cp37-cp37m-manylinux1_x86_64.whl (21.6 MB)\n",
            "\u001b[K     |████████████████████████████████| 21.6 MB 1.2 MB/s \n",
            "\u001b[?25hRequirement already satisfied: numpy>=1.14.5 in /usr/local/lib/python3.7/dist-packages (from opencv-python-headless<4.3) (1.21.6)\n",
            "Installing collected packages: opencv-python-headless\n",
            "Successfully installed opencv-python-headless-4.2.0.34\n"
          ]
        }
      ]
    },
    {
      "cell_type": "code",
      "source": [
        "from torch.utils.data import Dataset, DataLoader\n",
        "from torch import nn, optim\n",
        "import albumentations as A\n",
        "from albumentations.pytorch import ToTensorV2\n",
        "import cv2\n",
        "import glob\n",
        "import numpy as np\n",
        "import torch\n",
        "import random\n",
        "import torch.nn.functional as F\n",
        "%matplotlib inline\n",
        "%config InlineBackend.figure_format = 'retina'\n",
        "\n",
        "import matplotlib.pyplot as plt\n",
        "import itertools\n",
        "import copy"
      ],
      "metadata": {
        "id": "Qklf0zLxZJB6"
      },
      "execution_count": 4,
      "outputs": []
    },
    {
      "cell_type": "code",
      "source": [
        "train_transforms = A.Compose(\n",
        "    [\n",
        "        #A.SmallestMaxSize(max_size=40),\n",
        "        A.ShiftScaleRotate(shift_limit=0.05, scale_limit=0.05, rotate_limit=360, p=0.5),\n",
        "       \n",
        "        A.RGBShift(r_shift_limit=15, g_shift_limit=15, b_shift_limit=15, p=0.5),\n",
        "        A.RandomBrightnessContrast(p=0.5),\n",
        "        A.MultiplicativeNoise(multiplier=[0.5,2], per_channel=True, p=0.2),\n",
        "        A.Normalize(mean=(0.485, 0.456, 0.406), std=(0.229, 0.224, 0.225)),\n",
        "        A.HueSaturationValue(hue_shift_limit=0.2, sat_shift_limit=0.2, val_shift_limit=0.2, p=0.5),\n",
        "        A.RandomBrightnessContrast(brightness_limit=(-0.1,0.1), contrast_limit=(-0.1, 0.1), p=0.5),\n",
        "        ToTensorV2(),\n",
        "    ]\n",
        ")\n"
      ],
      "metadata": {
        "id": "vfluYsJwXKDZ"
      },
      "execution_count": 5,
      "outputs": []
    },
    {
      "cell_type": "code",
      "source": [
        "test_transforms = A.Compose(\n",
        "    [\n",
        "        #A.SmallestMaxSize(max_size=40),\n",
        "        A.RandomBrightnessContrast(brightness_limit=(-0.1,0.1), contrast_limit=(-0.1, 0.1), p=0.5),\n",
        "        A.Normalize(mean=(0.485, 0.456, 0.406), std=(0.229, 0.224, 0.225)),\n",
        "        ToTensorV2(),\n",
        "    ]\n",
        ")"
      ],
      "metadata": {
        "id": "WtJiQkwiXYSP"
      },
      "execution_count": 6,
      "outputs": []
    },
    {
      "cell_type": "code",
      "source": [
        "!unzip '/content/drive/MyDrive/traffic_sign_classification/final_dataset_v4(32x32).zip' -d '/content/dataset'"
      ],
      "metadata": {
        "id": "drou1dupW4eN"
      },
      "execution_count": null,
      "outputs": []
    },
    {
      "cell_type": "code",
      "source": [
        "\n",
        "train_data_path = '/content/dataset/final_dataset_v1/train' \n",
        "\n",
        "\n",
        "train_image_paths = [] #to store image paths in list\n",
        "classes = [] #to store class values\n",
        "\n",
        "#1.\n",
        "# get all the paths from train_data_path and append image paths and class to to respective lists\n",
        "# eg. train path-> 'images/train/26.Pont_du_Gard/4321ee6695c23c7b.jpg'\n",
        "# eg. class -> 26.Pont_du_Gard\n",
        "for data_path in glob.glob(train_data_path + '/*'):\n",
        "    classes.append(data_path.split('/')[-1]) \n",
        "    train_image_paths.append(glob.glob(data_path + '/*'))\n",
        "    \n"
      ],
      "metadata": {
        "id": "xo45KDn7NlVB"
      },
      "execution_count": 9,
      "outputs": []
    },
    {
      "cell_type": "code",
      "source": [
        "train_image_paths = list(itertools.chain(*train_image_paths))\n",
        "\n"
      ],
      "metadata": {
        "id": "HXdaqNWfc0or"
      },
      "execution_count": 10,
      "outputs": []
    },
    {
      "cell_type": "code",
      "source": [
        "random.shuffle(train_image_paths)"
      ],
      "metadata": {
        "id": "RD_5oOHrdQRK"
      },
      "execution_count": 11,
      "outputs": []
    },
    {
      "cell_type": "code",
      "source": [
        "\n",
        "\n",
        "print('train_image_path example: ', train_image_paths[0])\n",
        "print('class example: ', classes[0])\n"
      ],
      "metadata": {
        "colab": {
          "base_uri": "https://localhost:8080/"
        },
        "id": "CxOc-8Xwby6y",
        "outputId": "fcafbf65-cf58-4f74-ac92-f47bf0b118c3"
      },
      "execution_count": 12,
      "outputs": [
        {
          "output_type": "stream",
          "name": "stdout",
          "text": [
            "train_image_path example:  /content/dataset/final_dataset_v1/train/1/autosave16_10_2012_07_16_46_0__2014__1.jpg\n",
            "class example:  0\n"
          ]
        }
      ]
    },
    {
      "cell_type": "code",
      "source": [
        "train_image_paths, valid_image_paths = train_image_paths[:int(0.8*len(train_image_paths))], train_image_paths[int(0.8*len(train_image_paths)):] \n",
        "# split train valid from train paths (80,20)"
      ],
      "metadata": {
        "id": "nMWhfOD1cJKM"
      },
      "execution_count": 13,
      "outputs": []
    },
    {
      "cell_type": "code",
      "source": [
        "train_image_paths = [] #to store image paths in list\n",
        "classes = [] #to store class values\n",
        "\n",
        "#1.\n",
        "# get all the paths from train_data_path and append image paths and class to to respective lists\n",
        "# eg. train path-> 'images/train/26.Pont_du_Gard/4321ee6695c23c7b.jpg'\n",
        "# eg. class -> 26.Pont_du_Gard\n",
        "for data_path in glob.glob(train_data_path + '/*'):\n",
        "    classes.append(data_path.split('/')[-1]) \n",
        "    train_image_paths.append(glob.glob(data_path + '/*'))\n",
        "    \n",
        "train_image_paths = list(flatten(train_image_paths))\n",
        "random.shuffle(train_image_paths)\n",
        "\n",
        "print('train_image_path example: ', train_image_paths[0])\n",
        "print('class example: ', classes[0])\n",
        "\n",
        "#2.\n",
        "# split train valid from train paths (80,20)\n",
        "train_image_paths, valid_image_paths = train_image_paths[:int(0.8*len(train_image_paths))], train_image_paths[int(0.8*len(train_image_paths)):] \n",
        "\n",
        "#3.\n",
        "# create the test_image_paths\n",
        "test_image_paths = []\n",
        "for data_path in glob.glob(test_data_path + '/*'):\n",
        "    test_image_paths.append(glob.glob(data_path + '/*'))\n",
        "\n",
        "test_image_paths = list(flatten(test_image_paths))\n",
        "\n",
        "print(\"Train size: {}\\nValid size: {}\\nTest size: {}\".format(len(train_image_paths), len(valid_image_paths), len(test_image_paths)))\n"
      ],
      "metadata": {
        "id": "HXrNlln9Yi1z"
      },
      "execution_count": null,
      "outputs": []
    },
    {
      "cell_type": "code",
      "source": [
        "# create the test_image_paths\n",
        "test_data_path = '/content/dataset/final_dataset_v1/test'\n",
        "test_image_paths = []\n",
        "for data_path in glob.glob(test_data_path + '/*'):\n",
        "    test_image_paths.append(glob.glob(data_path + '/*'))"
      ],
      "metadata": {
        "id": "LkExMAZFcVKo"
      },
      "execution_count": 15,
      "outputs": []
    },
    {
      "cell_type": "code",
      "source": [
        "test_image_paths = list(itertools.chain(*test_image_paths))"
      ],
      "metadata": {
        "id": "ukaEKILHdzAh"
      },
      "execution_count": 16,
      "outputs": []
    },
    {
      "cell_type": "code",
      "source": [
        "random.shuffle(test_image_paths)"
      ],
      "metadata": {
        "id": "6WG_HXcaTrl2"
      },
      "execution_count": 17,
      "outputs": []
    },
    {
      "cell_type": "code",
      "source": [
        "print(\"Train size: {}\\nValid size: {}\\nTest size: {}\".format(len(train_image_paths), len(valid_image_paths), len(test_image_paths)))"
      ],
      "metadata": {
        "colab": {
          "base_uri": "https://localhost:8080/"
        },
        "id": "8VNiUtVBd6tR",
        "outputId": "d9ef68e7-566d-495f-ad17-32ab03f0e3e4"
      },
      "execution_count": 18,
      "outputs": [
        {
          "output_type": "stream",
          "name": "stdout",
          "text": [
            "Train size: 3725\n",
            "Valid size: 932\n",
            "Test size: 1165\n"
          ]
        }
      ]
    },
    {
      "cell_type": "code",
      "source": [
        "#Create index_to_class and class_to_index dictionaries\n",
        "idx_to_class = {i:j for i, j in enumerate(classes)}\n",
        "class_to_idx = {value:key for key,value in idx_to_class.items()}"
      ],
      "metadata": {
        "id": "5foBzyIaNlP_"
      },
      "execution_count": 25,
      "outputs": []
    },
    {
      "cell_type": "code",
      "source": [
        "idx_to_class, class_to_idx"
      ],
      "metadata": {
        "colab": {
          "base_uri": "https://localhost:8080/"
        },
        "id": "N7_h3w2ENlNS",
        "outputId": "7645ecc4-da0b-47ed-fed8-458e73a29f76"
      },
      "execution_count": 26,
      "outputs": [
        {
          "output_type": "execute_result",
          "data": {
            "text/plain": [
              "({0: '0', 1: '1'}, {'0': 0, '1': 1})"
            ]
          },
          "metadata": {},
          "execution_count": 26
        }
      ]
    },
    {
      "cell_type": "code",
      "source": [
        "class Ruts(Dataset):\n",
        "\n",
        "  def __init__(self, image_paths, transform=False):\n",
        "        self.image_paths = image_paths\n",
        "        self.transform = transform\n",
        "\n",
        "  def __len__(self):\n",
        "        return len(self.image_paths)\n",
        "\n",
        "  def __getitem__(self, idx):\n",
        "        image_filepath = self.image_paths[idx]\n",
        "        image = cv2.imread(image_filepath)\n",
        "        image = cv2.cvtColor(image, cv2.COLOR_BGR2RGB)\n",
        "        \n",
        "        label = image_filepath.split('/')[-2]\n",
        "        label = class_to_idx[label]\n",
        "        if self.transform is not None:\n",
        "            image = self.transform(image=image)[\"image\"]\n",
        "        \n",
        "        return image, label"
      ],
      "metadata": {
        "id": "_rYfC1n6NlFw"
      },
      "execution_count": 27,
      "outputs": []
    },
    {
      "cell_type": "code",
      "source": [
        "train_dataset = Ruts(train_image_paths,train_transforms)\n",
        "valid_dataset = Ruts(valid_image_paths,test_transforms) #test transforms are applied\n",
        "test_dataset = Ruts(test_image_paths,test_transforms)\n",
        "#test_dataset = Ruts(test_image_paths)"
      ],
      "metadata": {
        "id": "iFJAHN1NNlDO"
      },
      "execution_count": 28,
      "outputs": []
    },
    {
      "cell_type": "code",
      "source": [
        "print('The shape of tensor for 50th image in train dataset: ',train_dataset[49][0].shape)\n"
      ],
      "metadata": {
        "colab": {
          "base_uri": "https://localhost:8080/"
        },
        "id": "sv7AbjyHeFzW",
        "outputId": "487a07f4-d1af-4b2d-aa8f-5453b38b204d"
      },
      "execution_count": 29,
      "outputs": [
        {
          "output_type": "stream",
          "name": "stdout",
          "text": [
            "The shape of tensor for 50th image in train dataset:  torch.Size([3, 32, 32])\n"
          ]
        }
      ]
    },
    {
      "cell_type": "code",
      "source": [
        "print('The label for 50th image in train dataset: ',train_dataset[49][1])\n"
      ],
      "metadata": {
        "colab": {
          "base_uri": "https://localhost:8080/"
        },
        "id": "hmBVD1x0eFpb",
        "outputId": "3f23bb16-f80b-4ac4-8638-57f9a27810c8"
      },
      "execution_count": 30,
      "outputs": [
        {
          "output_type": "stream",
          "name": "stdout",
          "text": [
            "The label for 50th image in train dataset:  0\n"
          ]
        }
      ]
    },
    {
      "cell_type": "code",
      "source": [
        "test_dataset[0][0].shape"
      ],
      "metadata": {
        "colab": {
          "base_uri": "https://localhost:8080/"
        },
        "id": "Ws8veZf1aBGl",
        "outputId": "bfc56144-27de-4a00-a380-889d72141a61"
      },
      "execution_count": 47,
      "outputs": [
        {
          "output_type": "execute_result",
          "data": {
            "text/plain": [
              "torch.Size([3, 32, 32])"
            ]
          },
          "metadata": {},
          "execution_count": 47
        }
      ]
    },
    {
      "cell_type": "code",
      "source": [
        "train_dataset[0][0].shape\n"
      ],
      "metadata": {
        "colab": {
          "base_uri": "https://localhost:8080/"
        },
        "id": "5jljguLMaN4q",
        "outputId": "a8bcc99a-29f2-47e3-959f-aaae21b7ff6b"
      },
      "execution_count": 45,
      "outputs": [
        {
          "output_type": "execute_result",
          "data": {
            "text/plain": [
              "torch.Size([3, 32, 32])"
            ]
          },
          "metadata": {},
          "execution_count": 45
        }
      ]
    },
    {
      "cell_type": "code",
      "source": [
        "def visualize_augmentations(dataset, idx=0, samples=10, cols=5, random_img = False):\n",
        "    \n",
        "    dataset = copy.deepcopy(dataset)\n",
        "    #we remove the normalize and tensor conversion from our augmentation pipeline\n",
        "    dataset.transform = A.Compose([t for t in dataset.transform if not isinstance(t, (A.Normalize, ToTensorV2))])\n",
        "    rows = samples // cols\n",
        "    \n",
        "        \n",
        "    figure, ax = plt.subplots(nrows=rows, ncols=cols, figsize=(12, 8))\n",
        "    for i in range(samples):\n",
        "        if random_img:\n",
        "            idx = np.random.randint(1,len(train_image_paths))\n",
        "        image, lab = dataset[idx]\n",
        "        ax.ravel()[i].imshow(image)\n",
        "        ax.ravel()[i].set_axis_off()\n",
        "        ax.ravel()[i].set_title(idx_to_class[lab])\n",
        "    plt.tight_layout(pad=1)\n",
        "    plt.show()    \n",
        "\n",
        "visualize_augmentations(train_dataset,np.random.randint(1,len(train_image_paths)), random_img = True)\n"
      ],
      "metadata": {
        "colab": {
          "base_uri": "https://localhost:8080/",
          "height": 457
        },
        "id": "M2iOQ6DUeFd0",
        "outputId": "f9106c2a-c5a2-4164-e8bc-46e625307785"
      },
      "execution_count": 30,
      "outputs": [
        {
          "output_type": "display_data",
          "data": {
            "text/plain": [
              "<Figure size 864x576 with 10 Axes>"
            ],
            "image/png": "[encoded data removed]"
          },
          "metadata": {
            "image/png": {
              "width": 858,
              "height": 440
            },
            "needs_background": "light"
          }
        }
      ]
    },
    {
      "cell_type": "code",
      "source": [
        "train_loader = DataLoader(train_dataset, batch_size=64, shuffle=True)\n",
        "valid_loader = DataLoader(valid_dataset, batch_size=64, shuffle=True)\n",
        "test_loader = DataLoader(test_dataset, batch_size=64, shuffle=True)\n"
      ],
      "metadata": {
        "id": "n6SgtRoak5qb"
      },
      "execution_count": 48,
      "outputs": []
    },
    {
      "cell_type": "code",
      "source": [
        "class WrappedDataLoader:\n",
        "    def __init__(self, dl, func):\n",
        "        self.dl = dl\n",
        "        self.func = func\n",
        "\n",
        "    def __len__(self):\n",
        "        return len(self.dl)\n",
        "\n",
        "    def __iter__(self):\n",
        "        batches = iter(self.dl)\n",
        "        for b in batches:\n",
        "            yield (self.func(*b))"
      ],
      "metadata": {
        "id": "tA1oqdFOoaD2"
      },
      "execution_count": 49,
      "outputs": []
    },
    {
      "cell_type": "code",
      "source": [
        "device = torch.device(\"cuda\" if torch.cuda.is_available() else \"cpu\")"
      ],
      "metadata": {
        "id": "24tsF-fooeBV"
      },
      "execution_count": 50,
      "outputs": []
    },
    {
      "cell_type": "code",
      "source": [
        "def to_device(x, y):\n",
        "    return x.to(device), y.to(device, dtype=torch.int64)"
      ],
      "metadata": {
        "id": "9knHvnH_ogPS"
      },
      "execution_count": 51,
      "outputs": []
    },
    {
      "cell_type": "code",
      "source": [
        "train_loader = WrappedDataLoader(train_loader, to_device)\n",
        "valid_loader = WrappedDataLoader(valid_loader, to_device)\n",
        "test_loader = WrappedDataLoader(test_loader, to_device)"
      ],
      "metadata": {
        "id": "qsVWfg2TohU_"
      },
      "execution_count": 63,
      "outputs": []
    },
    {
      "cell_type": "code",
      "source": [
        "next(iter(train_loader))[0].shape"
      ],
      "metadata": {
        "colab": {
          "base_uri": "https://localhost:8080/"
        },
        "id": "23H6W3WEk5np",
        "outputId": "332b080c-b2f0-462f-dc11-7066bcff40b7"
      },
      "execution_count": 52,
      "outputs": [
        {
          "output_type": "execute_result",
          "data": {
            "text/plain": [
              "torch.Size([64, 3, 32, 32])"
            ]
          },
          "metadata": {},
          "execution_count": 52
        }
      ]
    },
    {
      "cell_type": "code",
      "source": [
        "next(iter(train_loader))[1].shape\n"
      ],
      "metadata": {
        "colab": {
          "base_uri": "https://localhost:8080/"
        },
        "id": "91qcpL88k5hU",
        "outputId": "34190272-21a6-48e8-abba-208447ba49cd"
      },
      "execution_count": 53,
      "outputs": [
        {
          "output_type": "execute_result",
          "data": {
            "text/plain": [
              "torch.Size([64])"
            ]
          },
          "metadata": {},
          "execution_count": 53
        }
      ]
    },
    {
      "cell_type": "markdown",
      "source": [
        "## Baseline Model"
      ],
      "metadata": {
        "id": "z6R8gJxgmoYM"
      }
    },
    {
      "cell_type": "code",
      "source": [
        "class BaselineNet(nn.Module):\n",
        "    def __init__(self, gray=False):\n",
        "        super(BaselineNet, self).__init__()\n",
        "        input_chan = 1 if gray else 3\n",
        "        self.conv1 = nn.Conv2d(input_chan, 6, 5)\n",
        "        self.pool = nn.MaxPool2d(2, 2)\n",
        "        self.conv2 = nn.Conv2d(6, 16, 5)\n",
        "        self.fc1 = nn.Linear(16 * 5 * 5, 120)\n",
        "        self.fc2 = nn.Linear(120, 84)\n",
        "        self.fc3 = nn.Linear(84, 2)\n",
        "\n",
        "    def forward(self, x):\n",
        "        x = self.pool(F.relu(self.conv1(x)))\n",
        "        x = self.pool(F.relu(self.conv2(x)))\n",
        "        x = x.view(-1, 16 * 5 * 5)\n",
        "        x = F.relu(self.fc1(x))\n",
        "        x = F.relu(self.fc2(x))\n",
        "        x = self.fc3(x)\n",
        "        return x"
      ],
      "metadata": {
        "id": "Wng_r1Mx_6wX"
      },
      "execution_count": 54,
      "outputs": []
    },
    {
      "cell_type": "code",
      "source": [
        "torch.manual_seed(1)\n"
      ],
      "metadata": {
        "colab": {
          "base_uri": "https://localhost:8080/"
        },
        "id": "5P5omaC3k5cM",
        "outputId": "3d6d8efd-2d29-45b6-d8df-47be72711154"
      },
      "execution_count": 55,
      "outputs": [
        {
          "output_type": "execute_result",
          "data": {
            "text/plain": [
              "<torch._C.Generator at 0x7f1089e94ad0>"
            ]
          },
          "metadata": {},
          "execution_count": 55
        }
      ]
    },
    {
      "cell_type": "code",
      "source": [
        "model = BaselineNet().to(device)\n",
        "criterion = nn.CrossEntropyLoss()\n",
        "optimizer = optim.SGD(model.parameters(), lr=0.001, momentum=0.9)\n",
        "n_epochs = 25"
      ],
      "metadata": {
        "id": "d1QMPjMpk5Zp"
      },
      "execution_count": 56,
      "outputs": []
    },
    {
      "cell_type": "code",
      "source": [
        "model"
      ],
      "metadata": {
        "colab": {
          "base_uri": "https://localhost:8080/"
        },
        "id": "R30gvZcVyuUu",
        "outputId": "3eb44a74-ef31-43a2-9cce-a0d4daf06fa6"
      },
      "execution_count": 57,
      "outputs": [
        {
          "output_type": "execute_result",
          "data": {
            "text/plain": [
              "BaselineNet(\n",
              "  (conv1): Conv2d(3, 6, kernel_size=(5, 5), stride=(1, 1))\n",
              "  (pool): MaxPool2d(kernel_size=2, stride=2, padding=0, dilation=1, ceil_mode=False)\n",
              "  (conv2): Conv2d(6, 16, kernel_size=(5, 5), stride=(1, 1))\n",
              "  (fc1): Linear(in_features=400, out_features=120, bias=True)\n",
              "  (fc2): Linear(in_features=120, out_features=84, bias=True)\n",
              "  (fc3): Linear(in_features=84, out_features=2, bias=True)\n",
              ")"
            ]
          },
          "metadata": {},
          "execution_count": 57
        }
      ]
    },
    {
      "cell_type": "code",
      "source": [
        "def loss_batch(model, loss_func, x, y, opt=None):\n",
        "    loss = loss_func(model(x), y)\n",
        "    \n",
        "    if opt is not None:\n",
        "        loss.backward()\n",
        "        opt.step()\n",
        "        opt.zero_grad()\n",
        "\n",
        "    return loss.item(), len(x)"
      ],
      "metadata": {
        "id": "m2mjRQ7gnpwS"
      },
      "execution_count": 58,
      "outputs": []
    },
    {
      "cell_type": "code",
      "source": [
        "def valid_batch(model, loss_func, x, y):\n",
        "    output = model(x)\n",
        "    loss = loss_func(output, y)\n",
        "    pred = torch.argmax(output, dim=1)\n",
        "    correct = pred == y.view(*pred.shape)\n",
        "    \n",
        "    return loss.item(), torch.sum(correct).item(), len(x)"
      ],
      "metadata": {
        "id": "BOYUHIennpt0"
      },
      "execution_count": 59,
      "outputs": []
    },
    {
      "cell_type": "code",
      "source": [
        "def fit(epochs, model, loss_func, opt, train_dl, valid_dl):\n",
        "    for epoch in range(epochs):\n",
        "        # Train model\n",
        "        model.train()\n",
        "        losses, nums = zip(*[loss_batch(model, loss_func, x, y, opt) for x, y in train_dl])\n",
        "        train_loss = np.sum(np.multiply(losses, nums)) / np.sum(nums)\n",
        "        # Validation model\n",
        "        model.eval()\n",
        "        with torch.no_grad():\n",
        "            losses, corrects, nums = zip(*[valid_batch(model, loss_func, x, y) for x, y in valid_dl])\n",
        "            valid_loss = np.sum(np.multiply(losses, nums)) / np.sum(nums)\n",
        "            valid_accuracy = np.sum(corrects) / np.sum(nums) * 100\n",
        "            print(f\"[Epoch {epoch+1}/{epochs}] \"\n",
        "                  f\"Train loss: {train_loss:.6f}\\t\"\n",
        "                  f\"Validation loss: {valid_loss:.6f}\\t\",\n",
        "                  f\"Validation accruacy: {valid_accuracy:.3f}%\")"
      ],
      "metadata": {
        "id": "XjenJy2vnpfv"
      },
      "execution_count": 60,
      "outputs": []
    },
    {
      "cell_type": "code",
      "source": [
        "def evaluate(model, loss_func, dl):\n",
        "    model.eval()\n",
        "    with torch.no_grad():\n",
        "        losses, corrects, nums = zip(*[valid_batch(model, loss_func, x, y) for x, y in dl])\n",
        "        test_loss = np.sum(np.multiply(losses, nums)) / np.sum(nums)\n",
        "        test_accuracy = np.sum(corrects) / np.sum(nums) * 100\n",
        "        \n",
        "    print(f\"Test loss: {test_loss:.6f}\\t\"\n",
        "          f\"Test accruacy: {test_accuracy:.3f}%\")"
      ],
      "metadata": {
        "id": "Udh_5QRGnpdJ"
      },
      "execution_count": 61,
      "outputs": []
    },
    {
      "cell_type": "code",
      "source": [
        "fit(n_epochs, model, criterion, optimizer, train_loader, valid_loader)\n"
      ],
      "metadata": {
        "colab": {
          "base_uri": "https://localhost:8080/"
        },
        "id": "0FMegj0nk5Qu",
        "outputId": "071838b2-a9c6-465b-c679-9cc30d34efec"
      },
      "execution_count": 64,
      "outputs": [
        {
          "output_type": "stream",
          "name": "stdout",
          "text": [
            "[Epoch 1/25] Train loss: 0.692241\tValidation loss: 0.691858\t Validation accruacy: 49.249%\n",
            "[Epoch 2/25] Train loss: 0.688536\tValidation loss: 0.682909\t Validation accruacy: 53.433%\n",
            "[Epoch 3/25] Train loss: 0.683349\tValidation loss: 0.669393\t Validation accruacy: 65.129%\n",
            "[Epoch 4/25] Train loss: 0.675365\tValidation loss: 0.648250\t Validation accruacy: 71.674%\n",
            "[Epoch 5/25] Train loss: 0.661679\tValidation loss: 0.618815\t Validation accruacy: 75.000%\n",
            "[Epoch 6/25] Train loss: 0.645104\tValidation loss: 0.600085\t Validation accruacy: 74.142%\n",
            "[Epoch 7/25] Train loss: 0.630765\tValidation loss: 0.578101\t Validation accruacy: 74.356%\n",
            "[Epoch 8/25] Train loss: 0.611793\tValidation loss: 0.562310\t Validation accruacy: 72.532%\n",
            "[Epoch 9/25] Train loss: 0.599089\tValidation loss: 0.536463\t Validation accruacy: 75.644%\n",
            "[Epoch 10/25] Train loss: 0.582458\tValidation loss: 0.507939\t Validation accruacy: 78.433%\n",
            "[Epoch 11/25] Train loss: 0.566218\tValidation loss: 0.470079\t Validation accruacy: 81.760%\n",
            "[Epoch 12/25] Train loss: 0.549563\tValidation loss: 0.433381\t Validation accruacy: 85.193%\n",
            "[Epoch 13/25] Train loss: 0.539845\tValidation loss: 0.396341\t Validation accruacy: 85.515%\n",
            "[Epoch 14/25] Train loss: 0.504599\tValidation loss: 0.343199\t Validation accruacy: 91.202%\n",
            "[Epoch 15/25] Train loss: 0.491933\tValidation loss: 0.303974\t Validation accruacy: 92.704%\n",
            "[Epoch 16/25] Train loss: 0.480604\tValidation loss: 0.269899\t Validation accruacy: 93.777%\n",
            "[Epoch 17/25] Train loss: 0.456716\tValidation loss: 0.221738\t Validation accruacy: 94.313%\n",
            "[Epoch 18/25] Train loss: 0.419521\tValidation loss: 0.205880\t Validation accruacy: 94.421%\n",
            "[Epoch 19/25] Train loss: 0.418970\tValidation loss: 0.169439\t Validation accruacy: 95.172%\n",
            "[Epoch 20/25] Train loss: 0.381392\tValidation loss: 0.135126\t Validation accruacy: 95.601%\n",
            "[Epoch 21/25] Train loss: 0.370654\tValidation loss: 0.119384\t Validation accruacy: 96.245%\n",
            "[Epoch 22/25] Train loss: 0.356511\tValidation loss: 0.099922\t Validation accruacy: 97.210%\n",
            "[Epoch 23/25] Train loss: 0.335428\tValidation loss: 0.093742\t Validation accruacy: 96.674%\n",
            "[Epoch 24/25] Train loss: 0.326837\tValidation loss: 0.083224\t Validation accruacy: 96.888%\n",
            "[Epoch 25/25] Train loss: 0.330561\tValidation loss: 0.074402\t Validation accruacy: 97.210%\n"
          ]
        }
      ]
    },
    {
      "cell_type": "code",
      "source": [
        "torch.save(model.state_dict(), '/content/drive/MyDrive/traffic_sign_classification/modelv4.pt')"
      ],
      "metadata": {
        "id": "ehp54Z5WGLPL"
      },
      "execution_count": 66,
      "outputs": []
    },
    {
      "cell_type": "code",
      "source": [
        "next(iter(train_loader))[0].shape"
      ],
      "metadata": {
        "id": "mYs7gKcXHFK2"
      },
      "execution_count": null,
      "outputs": []
    },
    {
      "cell_type": "code",
      "source": [
        "evaluate(model, criterion, test_loader)"
      ],
      "metadata": {
        "colab": {
          "base_uri": "https://localhost:8080/"
        },
        "id": "gs6FRr4Yk5N5",
        "outputId": "173599d5-0a67-4af7-eab3-b80f76bc7289"
      },
      "execution_count": 65,
      "outputs": [
        {
          "output_type": "stream",
          "name": "stdout",
          "text": [
            "Test loss: 0.112489\tTest accruacy: 95.365%\n"
          ]
        }
      ]
    }
  ]
}