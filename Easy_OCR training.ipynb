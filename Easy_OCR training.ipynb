{
  "nbformat": 4,
  "nbformat_minor": 0,
  "metadata": {
    "colab": {
      "name": "Number_plate_recognition.ipynb",
      "provenance": [],
      "collapsed_sections": []
    },
    "kernelspec": {
      "name": "python3",
      "display_name": "Python 3"
    },
    "language_info": {
      "name": "python"
    },
    "accelerator": "GPU"
  },
  "cells": [
    {
      "cell_type": "code",
      "source": [
        "import shutil\n",
        "import json\n",
        "import csv\n",
        "import pandas as pd\n",
        "import os"
      ],
      "metadata": {
        "id": "1AloZ79Vo2TT"
      },
      "execution_count": null,
      "outputs": []
    },
    {
      "cell_type": "code",
      "execution_count": null,
      "metadata": {
        "colab": {
          "base_uri": "https://localhost:8080/"
        },
        "id": "a3JjmGnLopCN",
        "outputId": "eedd6fc1-f70f-4cb4-816b-02c1b63d39a6"
      },
      "outputs": [
        {
          "output_type": "stream",
          "name": "stdout",
          "text": [
            "Cloning into 'EasyOCR'...\n",
            "remote: Enumerating objects: 2138, done.\u001b[K\n",
            "remote: Total 2138 (delta 0), reused 0 (delta 0), pack-reused 2138\u001b[K\n",
            "Receiving objects: 100% (2138/2138), 147.89 MiB | 15.05 MiB/s, done.\n",
            "Resolving deltas: 100% (1317/1317), done.\n",
            "Checking out files: 100% (225/225), done.\n"
          ]
        }
      ],
      "source": [
        "!git clone https://github.com/JaidedAI/EasyOCR\n"
      ]
    },
    {
      "cell_type": "markdown",
      "source": [
        "###Приведение датасета к виду: картинки в одной папке, надписи - в csv файле, содержащим 2 столбца: название картинки, надпись, содержащаяся в картинке"
      ],
      "metadata": {
        "id": "WTXyS-p0VYSx"
      }
    },
    {
      "cell_type": "markdown",
      "source": [
        "Распаковка"
      ],
      "metadata": {
        "id": "PS341i3kYhHp"
      }
    },
    {
      "cell_type": "code",
      "source": [
        "shutil.unpack_archive('/content/drive/MyDrive/Norbit_project/autoriaNumberplateOcrRu-2021-09-01.zip', '/content/dataset/', 'zip' )"
      ],
      "metadata": {
        "id": "8P_eHQ2tVXzJ"
      },
      "execution_count": null,
      "outputs": []
    },
    {
      "cell_type": "markdown",
      "source": [
        "1. Получить все названия файлов\n",
        "2. открывать их в цикле и дергать дескрипшн\n",
        "3. записывать в csv файл"
      ],
      "metadata": {
        "id": "xcZjMkUkriZ8"
      }
    },
    {
      "cell_type": "markdown",
      "source": [
        "###Конвертация png в jpg"
      ],
      "metadata": {
        "id": "ULo3J_gZ12DI"
      }
    },
    {
      "cell_type": "code",
      "source": [
        "from PIL import Image"
      ],
      "metadata": {
        "id": "x9Ir-GE5qd0t"
      },
      "execution_count": null,
      "outputs": []
    },
    {
      "cell_type": "code",
      "source": [
        "dirname = \"/content/dataset/autoriaNumberplateOcrRu-2021-09-01/val/img\""
      ],
      "metadata": {
        "id": "pTc-DPkt0xAg"
      },
      "execution_count": null,
      "outputs": []
    },
    {
      "cell_type": "code",
      "source": [
        "files = os.listdir(dirname)"
      ],
      "metadata": {
        "id": "1kqqd_S301Z3"
      },
      "execution_count": null,
      "outputs": []
    },
    {
      "cell_type": "code",
      "source": [
        "print(files[:10])"
      ],
      "metadata": {
        "colab": {
          "base_uri": "https://localhost:8080/"
        },
        "id": "27_HWTfR05un",
        "outputId": "20448ed3-6cff-4716-d568-e20c6c4d1614"
      },
      "execution_count": null,
      "outputs": [
        {
          "output_type": "stream",
          "name": "stdout",
          "text": [
            "['Y951CT62.jpg', 'O005BY199.jpg', 'O330PX42.jpg', 'H404CC26.jpg', 'H245AH154.jpg', 'T800HT93_0.jpg', 'B492CX47.jpg', 'H915PY69.jpg', 'K904KX10_0.jpg', 'C160KA77.jpg']\n"
          ]
        }
      ]
    },
    {
      "cell_type": "code",
      "source": [
        "for file_ in files:\n",
        "  file_path = os.path.join(dirname, file_)\n",
        "  if file_.endswith(\".png\"):\n",
        "    img = Image.open(file_path)\n",
        "    rgb_im = img.convert('RGB')\n",
        "    os.remove(file_path)\n",
        "    rgb_im.save(file_path[:-3] + 'jpg')"
      ],
      "metadata": {
        "id": "5r3Kr9rQqnLG"
      },
      "execution_count": null,
      "outputs": []
    },
    {
      "cell_type": "code",
      "source": [
        ""
      ],
      "metadata": {
        "id": "fXwiBksY1_VP"
      },
      "execution_count": null,
      "outputs": []
    },
    {
      "cell_type": "code",
      "source": [
        ""
      ],
      "metadata": {
        "id": "BCvTrotQ1_Kx"
      },
      "execution_count": null,
      "outputs": []
    },
    {
      "cell_type": "code",
      "source": [
        ""
      ],
      "metadata": {
        "id": "INQrTao02BPf"
      },
      "execution_count": null,
      "outputs": []
    },
    {
      "cell_type": "markdown",
      "source": [
        "###Создание labels.csv"
      ],
      "metadata": {
        "id": "W9_1iIy52Bug"
      }
    },
    {
      "cell_type": "code",
      "source": [
        "dirname = \"/content/dataset/autoriaNumberplateOcrRu-2021-09-01/val/ann\""
      ],
      "metadata": {
        "id": "Qfljf3inrhoX"
      },
      "execution_count": null,
      "outputs": []
    },
    {
      "cell_type": "code",
      "source": [
        "files = os.listdir(dirname)"
      ],
      "metadata": {
        "id": "rQSev97TsDeV"
      },
      "execution_count": null,
      "outputs": []
    },
    {
      "cell_type": "code",
      "source": [
        "print(files[:10])"
      ],
      "metadata": {
        "colab": {
          "base_uri": "https://localhost:8080/"
        },
        "id": "LXmm1R_a2S3j",
        "outputId": "e817789b-85e7-4149-cef4-0ae8c2e4231e"
      },
      "execution_count": null,
      "outputs": [
        {
          "output_type": "stream",
          "name": "stdout",
          "text": [
            "['K301HP196.json', 'B139PP178.json', 'X395AO56.json', 'C539AA142.json', 'O988TY31.json', 'O670OP69.json', 'X829KO799.json', 'K373OC29.json', 'C117BK34.json', 'K394AB134.json']\n"
          ]
        }
      ]
    },
    {
      "cell_type": "code",
      "source": [
        "cols = ['filename', 'words'] "
      ],
      "metadata": {
        "id": "UOKR-dCstW62"
      },
      "execution_count": null,
      "outputs": []
    },
    {
      "cell_type": "code",
      "source": [
        "with open('/content/number_dataset.csv', 'a', encoding='utf-8') as f2:\n",
        "      wr = csv.DictWriter(f2, fieldnames = cols) \n",
        "      wr.writeheader() \n",
        "       \n",
        "      f2.close()\n",
        "row = dict()\n",
        "for file_ in files:\n",
        "  file_path = os.path.join(dirname, file_)\n",
        "  if file_.endswith(\".json\"):\n",
        "    with open(file_path, 'r', encoding='utf-8') as f: \n",
        "      text_ = json.load(f) \n",
        "      f.close()\n",
        "\n",
        "  \n",
        "    row['filename'] = str(text_.get('name')) + '.jpg'\n",
        "    row['words'] = str(text_.get('description'))\n",
        "    print(row)\n",
        "    with open('/content/number_dataset.csv', 'a', encoding='utf-8') as f2:\n",
        "      wr = csv.DictWriter(f2, fieldnames = cols) \n",
        "      wr.writerow(row) \n",
        "      f2.close()\n",
        "    row.clear()\n",
        "  \n",
        "\n",
        "\n",
        "\n",
        "\n",
        "\n"
      ],
      "metadata": {
        "id": "0-i7sGk3sF5d"
      },
      "execution_count": null,
      "outputs": []
    },
    {
      "cell_type": "markdown",
      "source": [
        ""
      ],
      "metadata": {
        "id": "2i6ICikEbAu9"
      }
    },
    {
      "cell_type": "code",
      "source": [
        "%mkdir /content/EasyOCR/trainer/all_data/en_train_filtered/"
      ],
      "metadata": {
        "id": "6k4LI8O_bDe0"
      },
      "execution_count": null,
      "outputs": []
    },
    {
      "cell_type": "code",
      "source": [
        "%mv /content/labels.csv /content/EasyOCR/trainer/all_data/en_train_filtered/"
      ],
      "metadata": {
        "id": "P2jNijZAbXPG"
      },
      "execution_count": null,
      "outputs": []
    },
    {
      "cell_type": "code",
      "source": [
        "%mv /content/labels.csv /content/EasyOCR/trainer/all_data/en_val"
      ],
      "metadata": {
        "id": "gfgX9W4p5Jv5"
      },
      "execution_count": null,
      "outputs": []
    },
    {
      "cell_type": "markdown",
      "source": [
        "Copying all the converted jpg files into right folder"
      ],
      "metadata": {
        "id": "fW6_7clZ3byw"
      }
    },
    {
      "cell_type": "code",
      "source": [
        "%cp -R /content/dataset/autoriaNumberplateOcrRu-2021-09-01/train/img/. /content/EasyOCR/trainer/all_data/en_train_filtered/"
      ],
      "metadata": {
        "id": "-YuTEfRkatq_"
      },
      "execution_count": null,
      "outputs": []
    },
    {
      "cell_type": "code",
      "source": [
        "%mkdir /content/EasyOCR/trainer/all_data/en_val"
      ],
      "metadata": {
        "id": "92Pq8oI1dXJE"
      },
      "execution_count": null,
      "outputs": []
    },
    {
      "cell_type": "code",
      "source": [
        "dirname = \"/content/EasyOCR/trainer/all_data/en_val\""
      ],
      "metadata": {
        "id": "bqjUGOzQ5Uch"
      },
      "execution_count": null,
      "outputs": []
    },
    {
      "cell_type": "code",
      "source": [
        "files = os.listdir(dirname)"
      ],
      "metadata": {
        "id": "rdqJFJsJ5ZXI"
      },
      "execution_count": null,
      "outputs": []
    },
    {
      "cell_type": "code",
      "source": [
        "print(files[:10])"
      ],
      "metadata": {
        "colab": {
          "base_uri": "https://localhost:8080/"
        },
        "id": "UejhY0ox5aV4",
        "outputId": "8a7deb47-c82b-4d7c-b066-71e1a1497aeb"
      },
      "execution_count": null,
      "outputs": [
        {
          "output_type": "stream",
          "name": "stdout",
          "text": [
            "['Y951CT62.jpg', 'O005BY199.jpg', 'O330PX42.jpg', 'H404CC26.jpg', 'H245AH154.jpg', 'T800HT93_0.jpg', 'B492CX47.jpg', 'H915PY69.jpg', 'K904KX10_0.jpg', 'C160KA77.jpg']\n"
          ]
        }
      ]
    },
    {
      "cell_type": "code",
      "source": [
        "%cp -R /content/dataset/autoriaNumberplateOcrRu-2021-09-01/val/img/. /content/EasyOCR/trainer/all_data/en_val/"
      ],
      "metadata": {
        "id": "cFLNZuRJdrJP"
      },
      "execution_count": null,
      "outputs": []
    },
    {
      "cell_type": "code",
      "source": [
        "%mv /content/labels.csv /content/EasyOCR/trainer/all_data/en_train_filtered"
      ],
      "metadata": {
        "id": "uD3GluorZzYt"
      },
      "execution_count": null,
      "outputs": []
    },
    {
      "cell_type": "code",
      "source": [
        "%cd EasyOCR/trainer/all_data/en_train_filtered/"
      ],
      "metadata": {
        "colab": {
          "base_uri": "https://localhost:8080/"
        },
        "id": "bCKYf35GdKS1",
        "outputId": "c42066ef-8174-40ec-bebb-c6680fc967e2"
      },
      "execution_count": null,
      "outputs": [
        {
          "output_type": "stream",
          "name": "stdout",
          "text": [
            "/content/EasyOCR/trainer/all_data/en_train_filtered\n"
          ]
        }
      ]
    },
    {
      "cell_type": "markdown",
      "source": [
        "###Training"
      ],
      "metadata": {
        "id": "5AJ51pQiLwpJ"
      }
    },
    {
      "cell_type": "markdown",
      "source": [
        "Нужно настроить конфиг файл \n",
        "/content/EasyOCR/trainer/config_files/en_filtered_config.yaml\n"
      ],
      "metadata": {
        "id": "Gw4m0aZefIy-"
      }
    },
    {
      "cell_type": "code",
      "source": [
        "ls"
      ],
      "metadata": {
        "colab": {
          "base_uri": "https://localhost:8080/"
        },
        "id": "lk6AiXBrNULq",
        "outputId": "63408846-4e13-4a19-d56f-9d7d19dcb24a"
      },
      "execution_count": null,
      "outputs": [
        {
          "output_type": "stream",
          "name": "stdout",
          "text": [
            "custom_model.md  \u001b[0m\u001b[01;34mexamples\u001b[0m/    README.md         \u001b[01;34mscripts\u001b[0m/   \u001b[01;34mtrainer\u001b[0m/\n",
            "Dockerfile       LICENSE      releasenotes.md   setup.cfg\n",
            "\u001b[01;34measyocr\u001b[0m/         MANIFEST.in  requirements.txt  setup.py\n"
          ]
        }
      ]
    },
    {
      "cell_type": "code",
      "source": [
        "cd /content/EasyOCR/trainer/"
      ],
      "metadata": {
        "colab": {
          "base_uri": "https://localhost:8080/"
        },
        "id": "adMLxz7jMbiK",
        "outputId": "459c8269-27b4-44b8-aa54-7afe77eec2b4"
      },
      "execution_count": null,
      "outputs": [
        {
          "output_type": "stream",
          "name": "stdout",
          "text": [
            "/content/EasyOCR/trainer\n"
          ]
        }
      ]
    },
    {
      "cell_type": "code",
      "source": [
        "import os\n",
        "import torch.backends.cudnn as cudnn\n",
        "import yaml\n",
        "from train import train\n",
        "from utils import AttrDict\n",
        "import pandas as pd"
      ],
      "metadata": {
        "id": "UCl23NfILt4j"
      },
      "execution_count": null,
      "outputs": []
    },
    {
      "cell_type": "code",
      "source": [
        "cudnn.benchmark = True\n",
        "cudnn.deterministic = False"
      ],
      "metadata": {
        "id": "q_NSRZ-3Neka"
      },
      "execution_count": null,
      "outputs": []
    },
    {
      "cell_type": "code",
      "source": [
        "def get_config(file_path):\n",
        "    with open(file_path, 'r', encoding=\"utf8\") as stream:\n",
        "        opt = yaml.safe_load(stream)\n",
        "    opt = AttrDict(opt)\n",
        "    if opt.lang_char == 'None':\n",
        "        characters = ''\n",
        "        for data in opt['select_data'].split('-'):\n",
        "            csv_path = os.path.join(opt['train_data'], data, 'labels.csv')\n",
        "            df = pd.read_csv(csv_path, sep='^([^,]+),', engine='python', usecols=['filename', 'words'], keep_default_na=False)\n",
        "            all_char = ''.join(df['words'])\n",
        "            characters += ''.join(set(all_char))\n",
        "        characters = sorted(set(characters))\n",
        "        opt.character= ''.join(characters)\n",
        "    else:\n",
        "        opt.character = opt.number + opt.symbol + opt.lang_char\n",
        "    os.makedirs(f'./saved_models/{opt.experiment_name}', exist_ok=True)\n",
        "    return opt"
      ],
      "metadata": {
        "id": "VQOSlyjANh3Z"
      },
      "execution_count": null,
      "outputs": []
    },
    {
      "cell_type": "code",
      "source": [
        "%mv /content/labels.csv /content/dataset/autoriaNumberplateOcrRu-2021-09-01/train/img/"
      ],
      "metadata": {
        "id": "OjDMsprVTVvT"
      },
      "execution_count": null,
      "outputs": []
    },
    {
      "cell_type": "code",
      "source": [
        "%mv /content/labels.csv /content/dataset/autoriaNumberplateOcrRu-2021-09-01/val/img/"
      ],
      "metadata": {
        "id": "4h0q6TsUT749"
      },
      "execution_count": null,
      "outputs": []
    },
    {
      "cell_type": "markdown",
      "source": [
        "Конвертация png to jpb (это пиздец, не мог 2 часа ошибку найти... кстати, на данный момент неизвестно, в этом ли ошибка.... Говорит типа num_samples = 0 сначала подумал, что что-то с путями, потом с версиями в торче, ну короче...)"
      ],
      "metadata": {
        "id": "zc3N5fRcqLa2"
      }
    },
    {
      "cell_type": "markdown",
      "source": [
        "1. конвертировать в jpg\n",
        "2. удалить labels.csv\n",
        "3. создать новые labels.csv"
      ],
      "metadata": {
        "id": "wC4iezwwt85u"
      }
    },
    {
      "cell_type": "code",
      "source": [
        "%rm /content/EasyOCR/trainer/all_data/en_train_filtered/labels.csv"
      ],
      "metadata": {
        "id": "j4Ptp8AC4gHJ"
      },
      "execution_count": null,
      "outputs": []
    },
    {
      "cell_type": "markdown",
      "source": [
        "Удалить все файлы из trainer"
      ],
      "metadata": {
        "id": "2vMv3owjwAOu"
      }
    },
    {
      "cell_type": "code",
      "source": [
        "%cp /content/EasyOCR/trainer/all_data/en_train_filtered/labels.csv /content/dataset/autoriaNumberplateOcrRu-2021-09-01/"
      ],
      "metadata": {
        "id": "3aAsSQPOsR_3"
      },
      "execution_count": null,
      "outputs": []
    },
    {
      "cell_type": "code",
      "source": [
        "%pwd"
      ],
      "metadata": {
        "colab": {
          "base_uri": "https://localhost:8080/",
          "height": 35
        },
        "id": "AdVhTwydyJff",
        "outputId": "edbae56b-49bf-4a2d-a04d-e156930545f3"
      },
      "execution_count": null,
      "outputs": [
        {
          "output_type": "execute_result",
          "data": {
            "text/plain": [
              "'/content/EasyOCR/trainer'"
            ],
            "application/vnd.google.colaboratory.intrinsic+json": {
              "type": "string"
            }
          },
          "metadata": {},
          "execution_count": 90
        }
      ]
    },
    {
      "cell_type": "code",
      "source": [
        "dirname = \"/content/dataset/autoriaNumberplateOcrRu-2021-09-01/train/img\""
      ],
      "metadata": {
        "id": "VoYNs1_iqpxs"
      },
      "execution_count": null,
      "outputs": []
    },
    {
      "cell_type": "code",
      "source": [
        "files = os.listdir(dirname)"
      ],
      "metadata": {
        "id": "-nr4-nXdqsB-"
      },
      "execution_count": null,
      "outputs": []
    },
    {
      "cell_type": "code",
      "source": [
        "print(files[:10])"
      ],
      "metadata": {
        "colab": {
          "base_uri": "https://localhost:8080/"
        },
        "id": "XM1h2pFHzW4v",
        "outputId": "fe5f5b84-04ce-4b55-efdf-b4034af012dc"
      },
      "execution_count": null,
      "outputs": [
        {
          "output_type": "stream",
          "name": "stdout",
          "text": [
            "[]\n"
          ]
        }
      ]
    },
    {
      "cell_type": "code",
      "source": [
        "%rmdir -p /content/dataset"
      ],
      "metadata": {
        "colab": {
          "base_uri": "https://localhost:8080/"
        },
        "id": "b__lJfN7z2hQ",
        "outputId": "4697ed2d-f1ed-4a64-cb5d-0c44f7980695"
      },
      "execution_count": null,
      "outputs": [
        {
          "output_type": "stream",
          "name": "stdout",
          "text": [
            "rmdir: failed to remove '/content/dataset': Directory not empty\n"
          ]
        }
      ]
    },
    {
      "cell_type": "code",
      "source": [
        "for file_ in files:\n",
        "  file_path = os.path.join(dirname, file_)\n",
        "  if file_.endswith(\".png\"):\n",
        "    #os.remove(file_path)\n",
        "    print(file_path)\n"
      ],
      "metadata": {
        "id": "jXWzB4BryN9n"
      },
      "execution_count": null,
      "outputs": []
    },
    {
      "cell_type": "code",
      "source": [
        "opt = get_config(\"config_files/en_filtered_config.yaml\")\n"
      ],
      "metadata": {
        "id": "uhM8bBGzNxjy"
      },
      "execution_count": null,
      "outputs": []
    },
    {
      "cell_type": "code",
      "source": [
        "print(opt.select_data)"
      ],
      "metadata": {
        "colab": {
          "base_uri": "https://localhost:8080/"
        },
        "id": "GQsL8M0KjK8G",
        "outputId": "c56e627b-8d3e-4cc1-dad9-f6f69eaa43d4"
      },
      "execution_count": null,
      "outputs": [
        {
          "output_type": "stream",
          "name": "stdout",
          "text": [
            "en_train_filtered\n"
          ]
        }
      ]
    },
    {
      "cell_type": "code",
      "source": [
        "train(opt, amp=False)"
      ],
      "metadata": {
        "colab": {
          "base_uri": "https://localhost:8080/"
        },
        "id": "PQd3K7esjIk1",
        "outputId": "6885040c-07ac-4488-9e57-712065a1c7b8"
      },
      "execution_count": null,
      "outputs": [
        {
          "output_type": "stream",
          "name": "stdout",
          "text": [
            "Filtering the images containing characters which are not in opt.character\n",
            "Filtering the images whose label is longer than opt.batch_max_length\n",
            "--------------------------------------------------------------------------------\n",
            "dataset_root: all_data\n",
            "opt.select_data: ['en_train_filtered']\n",
            "opt.batch_ratio: ['1']\n",
            "--------------------------------------------------------------------------------\n",
            "dataset_root:    all_data\t dataset: en_train_filtered\n",
            "all_data/en_train_filtered\n"
          ]
        },
        {
          "output_type": "stream",
          "name": "stderr",
          "text": [
            "Traceback (most recent call last):\n",
            "  File \"/usr/lib/python3.7/multiprocessing/queues.py\", line 242, in _feed\n",
            "    send_bytes(obj)\n",
            "  File \"/usr/lib/python3.7/multiprocessing/connection.py\", line 200, in send_bytes\n",
            "    self._send_bytes(m[offset:offset + size])\n",
            "  File \"/usr/lib/python3.7/multiprocessing/connection.py\", line 404, in _send_bytes\n",
            "    self._send(header + buf)\n",
            "  File \"/usr/lib/python3.7/multiprocessing/connection.py\", line 368, in _send\n",
            "    n = write(self._handle, buf)\n",
            "BrokenPipeError: [Errno 32] Broken pipe\n",
            "Exception in thread QueueFeederThread:\n",
            "Traceback (most recent call last):\n",
            "  File \"/usr/lib/python3.7/multiprocessing/queues.py\", line 232, in _feed\n",
            "    close()\n",
            "  File \"/usr/lib/python3.7/multiprocessing/connection.py\", line 177, in close\n",
            "    self._close()\n",
            "  File \"/usr/lib/python3.7/multiprocessing/connection.py\", line 361, in _close\n",
            "    _close(self._handle)\n",
            "OSError: [Errno 9] Bad file descriptor\n",
            "\n",
            "During handling of the above exception, another exception occurred:\n",
            "\n",
            "Traceback (most recent call last):\n",
            "  File \"/usr/lib/python3.7/threading.py\", line 926, in _bootstrap_inner\n",
            "    self.run()\n",
            "  File \"/usr/lib/python3.7/threading.py\", line 870, in run\n",
            "    self._target(*self._args, **self._kwargs)\n",
            "  File \"/usr/lib/python3.7/multiprocessing/queues.py\", line 263, in _feed\n",
            "    queue_sem.release()\n",
            "ValueError: semaphore or lock released too many times\n",
            "\n"
          ]
        },
        {
          "output_type": "stream",
          "name": "stdout",
          "text": [
            "sub-directory:\t/en_train_filtered\t num samples: 480\n",
            "num total samples of en_train_filtered: 480 x 1.0 (total_data_usage_ratio) = 480\n",
            "num samples of en_train_filtered per batch: 32 x 1.0 (batch_ratio) = 32\n"
          ]
        },
        {
          "output_type": "stream",
          "name": "stderr",
          "text": [
            "/usr/local/lib/python3.7/dist-packages/torch/utils/data/dataloader.py:490: UserWarning: This DataLoader will create 6 worker processes in total. Our suggested max number of worker in current system is 2, which is smaller than what this DataLoader is going to create. Please be aware that excessive worker creation might get DataLoader running slow or even freeze, lower the worker number to avoid potential slowness/freeze if necessary.\n",
            "  cpuset_checked))\n"
          ]
        },
        {
          "output_type": "stream",
          "name": "stdout",
          "text": [
            "--------------------------------------------------------------------------------\n",
            "Total_batch_size: 32 = 32\n",
            "--------------------------------------------------------------------------------\n",
            "dataset_root:    all_data/en_val\t dataset: /\n",
            "all_data/en_val/\n",
            "sub-directory:\t/.\t num samples: 60\n",
            "--------------------------------------------------------------------------------\n",
            "No Transformation module specified\n",
            "model input parameters 64 600 20 1 256 256 25 34 None VGG BiLSTM CTC\n",
            "Model:\n",
            "DataParallel(\n",
            "  (module): Model(\n",
            "    (FeatureExtraction): VGG_FeatureExtractor(\n",
            "      (ConvNet): Sequential(\n",
            "        (0): Conv2d(1, 32, kernel_size=(3, 3), stride=(1, 1), padding=(1, 1))\n",
            "        (1): ReLU(inplace=True)\n",
            "        (2): MaxPool2d(kernel_size=2, stride=2, padding=0, dilation=1, ceil_mode=False)\n",
            "        (3): Conv2d(32, 64, kernel_size=(3, 3), stride=(1, 1), padding=(1, 1))\n",
            "        (4): ReLU(inplace=True)\n",
            "        (5): MaxPool2d(kernel_size=2, stride=2, padding=0, dilation=1, ceil_mode=False)\n",
            "        (6): Conv2d(64, 128, kernel_size=(3, 3), stride=(1, 1), padding=(1, 1))\n",
            "        (7): ReLU(inplace=True)\n",
            "        (8): Conv2d(128, 128, kernel_size=(3, 3), stride=(1, 1), padding=(1, 1))\n",
            "        (9): ReLU(inplace=True)\n",
            "        (10): MaxPool2d(kernel_size=(2, 1), stride=(2, 1), padding=0, dilation=1, ceil_mode=False)\n",
            "        (11): Conv2d(128, 256, kernel_size=(3, 3), stride=(1, 1), padding=(1, 1), bias=False)\n",
            "        (12): BatchNorm2d(256, eps=1e-05, momentum=0.1, affine=True, track_running_stats=True)\n",
            "        (13): ReLU(inplace=True)\n",
            "        (14): Conv2d(256, 256, kernel_size=(3, 3), stride=(1, 1), padding=(1, 1), bias=False)\n",
            "        (15): BatchNorm2d(256, eps=1e-05, momentum=0.1, affine=True, track_running_stats=True)\n",
            "        (16): ReLU(inplace=True)\n",
            "        (17): MaxPool2d(kernel_size=(2, 1), stride=(2, 1), padding=0, dilation=1, ceil_mode=False)\n",
            "        (18): Conv2d(256, 256, kernel_size=(2, 2), stride=(1, 1))\n",
            "        (19): ReLU(inplace=True)\n",
            "      )\n",
            "    )\n",
            "    (AdaptiveAvgPool): AdaptiveAvgPool2d(output_size=(None, 1))\n",
            "    (SequenceModeling): Sequential(\n",
            "      (0): BidirectionalLSTM(\n",
            "        (rnn): LSTM(256, 256, batch_first=True, bidirectional=True)\n",
            "        (linear): Linear(in_features=512, out_features=256, bias=True)\n",
            "      )\n",
            "      (1): BidirectionalLSTM(\n",
            "        (rnn): LSTM(256, 256, batch_first=True, bidirectional=True)\n",
            "        (linear): Linear(in_features=512, out_features=256, bias=True)\n",
            "      )\n",
            "    )\n",
            "    (Prediction): Linear(in_features=256, out_features=25, bias=True)\n",
            "  )\n",
            ")\n",
            "Modules, Parameters\n",
            "module.FeatureExtraction.ConvNet.0.weight 288\n",
            "module.FeatureExtraction.ConvNet.0.bias 32\n",
            "module.FeatureExtraction.ConvNet.3.weight 18432\n",
            "module.FeatureExtraction.ConvNet.3.bias 64\n",
            "module.FeatureExtraction.ConvNet.6.weight 73728\n",
            "module.FeatureExtraction.ConvNet.6.bias 128\n",
            "module.FeatureExtraction.ConvNet.8.weight 147456\n",
            "module.FeatureExtraction.ConvNet.8.bias 128\n",
            "module.FeatureExtraction.ConvNet.11.weight 294912\n",
            "module.FeatureExtraction.ConvNet.12.weight 256\n",
            "module.FeatureExtraction.ConvNet.12.bias 256\n",
            "module.FeatureExtraction.ConvNet.14.weight 589824\n",
            "module.FeatureExtraction.ConvNet.15.weight 256\n",
            "module.FeatureExtraction.ConvNet.15.bias 256\n",
            "module.FeatureExtraction.ConvNet.18.weight 262144\n",
            "module.FeatureExtraction.ConvNet.18.bias 256\n",
            "module.SequenceModeling.0.rnn.weight_ih_l0 262144\n",
            "module.SequenceModeling.0.rnn.weight_hh_l0 262144\n",
            "module.SequenceModeling.0.rnn.bias_ih_l0 1024\n",
            "module.SequenceModeling.0.rnn.bias_hh_l0 1024\n",
            "module.SequenceModeling.0.rnn.weight_ih_l0_reverse 262144\n",
            "module.SequenceModeling.0.rnn.weight_hh_l0_reverse 262144\n",
            "module.SequenceModeling.0.rnn.bias_ih_l0_reverse 1024\n",
            "module.SequenceModeling.0.rnn.bias_hh_l0_reverse 1024\n",
            "module.SequenceModeling.0.linear.weight 131072\n",
            "module.SequenceModeling.0.linear.bias 256\n",
            "module.SequenceModeling.1.rnn.weight_ih_l0 262144\n",
            "module.SequenceModeling.1.rnn.weight_hh_l0 262144\n",
            "module.SequenceModeling.1.rnn.bias_ih_l0 1024\n",
            "module.SequenceModeling.1.rnn.bias_hh_l0 1024\n",
            "module.SequenceModeling.1.rnn.weight_ih_l0_reverse 262144\n",
            "module.SequenceModeling.1.rnn.weight_hh_l0_reverse 262144\n",
            "module.SequenceModeling.1.rnn.bias_ih_l0_reverse 1024\n",
            "module.SequenceModeling.1.rnn.bias_hh_l0_reverse 1024\n",
            "module.SequenceModeling.1.linear.weight 131072\n",
            "module.SequenceModeling.1.linear.bias 256\n",
            "module.Prediction.weight 6400\n",
            "module.Prediction.bias 25\n",
            "Total Trainable Params: 3762841\n",
            "Trainable params num :  3762841\n",
            "Optimizer:\n",
            "Adadelta (\n",
            "Parameter Group 0\n",
            "    eps: 1e-08\n",
            "    lr: 1.0\n",
            "    rho: 0.95\n",
            "    weight_decay: 0\n",
            ")\n",
            "------------ Options -------------\n",
            "number: 0123456789\n",
            "symbol: !\n",
            "lang_char: ABEKMHOPCTYXa\n",
            "experiment_name: en_filtered\n",
            "train_data: all_data\n",
            "valid_data: all_data/en_val\n",
            "manualSeed: 1111\n",
            "workers: 6\n",
            "batch_size: 32\n",
            "num_iter: 300000\n",
            "valInterval: 20000\n",
            "saved_model: \n",
            "FT: False\n",
            "optim: False\n",
            "lr: 1.0\n",
            "beta1: 0.9\n",
            "rho: 0.95\n",
            "eps: 1e-08\n",
            "grad_clip: 5\n",
            "select_data: ['en_train_filtered']\n",
            "batch_ratio: ['1']\n",
            "total_data_usage_ratio: 1.0\n",
            "batch_max_length: 34\n",
            "imgH: 64\n",
            "imgW: 600\n",
            "rgb: False\n",
            "contrast_adjust: 0.0\n",
            "sensitive: True\n",
            "PAD: True\n",
            "data_filtering_off: False\n",
            "Transformation: None\n",
            "FeatureExtraction: VGG\n",
            "SequenceModeling: BiLSTM\n",
            "Prediction: CTC\n",
            "num_fiducial: 20\n",
            "input_channel: 1\n",
            "output_channel: 256\n",
            "hidden_size: 256\n",
            "decode: greedy\n",
            "new_prediction: False\n",
            "freeze_FeatureFxtraction: False\n",
            "freeze_SequenceModeling: False\n",
            "character: 0123456789!ABEKMHOPCTYXa\n",
            "num_class: 25\n",
            "---------------------------------------\n",
            "\n",
            "training time:  3596.4210805892944\n",
            "[20000/300000] Train loss: 0.12697, Valid loss: 3.34269, Elapsed_time: 3596.42148\n",
            "Current_accuracy : 0.000, Current_norm_ED  : 0.6072\n",
            "Best_accuracy    : 0.000, Best_norm_ED     : 0.6072\n",
            "--------------------------------------------------------------------------------\n",
            "Ground Truth              | Prediction                | Confidence Score & T/F\n",
            "--------------------------------------------------------------------------------\n",
            "A836AA154                 | A867AA154                 | 0.0431\tFalse\n",
            "A549AA154                 | A89AA154                  | 0.2625\tFalse\n",
            "--------------------------------------------------------------------------------\n",
            "validation time:  1.850698471069336\n",
            "training time:  3937.0459973812103\n",
            "[40000/300000] Train loss: 0.00082, Valid loss: 3.73581, Elapsed_time: 7535.31856\n",
            "Current_accuracy : 0.000, Current_norm_ED  : 0.6042\n",
            "Best_accuracy    : 0.000, Best_norm_ED     : 0.6072\n",
            "--------------------------------------------------------------------------------\n",
            "Ground Truth              | Prediction                | Confidence Score & T/F\n",
            "--------------------------------------------------------------------------------\n",
            "A652AA32                  | A84AA46                   | 0.2396\tFalse\n",
            "A071AA161                 | A41AA123                  | 0.3267\tFalse\n",
            "--------------------------------------------------------------------------------\n",
            "validation time:  1.848104476928711\n",
            "training time:  4332.596311092377\n",
            "[60000/300000] Train loss: 0.00000, Valid loss: 3.83722, Elapsed_time: 11869.77415\n",
            "Current_accuracy : 0.000, Current_norm_ED  : 0.6002\n",
            "Best_accuracy    : 0.000, Best_norm_ED     : 0.6072\n",
            "--------------------------------------------------------------------------------\n",
            "Ground Truth              | Prediction                | Confidence Score & T/F\n",
            "--------------------------------------------------------------------------------\n",
            "A896AA177                 | A654AA177                 | 0.4827\tFalse\n",
            "A868AA77                  | A85AA77                   | 0.1993\tFalse\n",
            "--------------------------------------------------------------------------------\n",
            "validation time:  2.6529364585876465\n"
          ]
        }
      ]
    }
  ]
}